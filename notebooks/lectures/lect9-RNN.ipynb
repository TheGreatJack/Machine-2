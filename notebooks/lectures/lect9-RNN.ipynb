{
 "cells": [
  {
   "cell_type": "markdown",
   "metadata": {},
   "source": [
    "## Last time: CNN\n",
    "* Trained model\n",
    "* [Geomtric deep learning](http://geometricdeeplearning.com/)"
   ]
  },
  {
   "cell_type": "markdown",
   "metadata": {},
   "source": [
    "## Non-image CNN: Sequence motif\n",
    "* [Position weight matrix](https://en.wikipedia.org/wiki/Position_weight_matrix)"
   ]
  },
  {
   "cell_type": "markdown",
   "metadata": {},
   "source": [
    "![](img/pwm.png)"
   ]
  },
  {
   "cell_type": "markdown",
   "metadata": {},
   "source": [
    "![](http://jaspar.genereg.net/static/logos/svg/MA0149.1.svg)"
   ]
  },
  {
   "cell_type": "code",
   "execution_count": 1,
   "metadata": {},
   "outputs": [],
   "source": [
    "import numpy as np\n",
    "\n",
    "seq_length = 40\n",
    "num_train = 1000\n",
    "num_val = 100\n",
    "\n",
    "# PFM from JASPAR\n",
    "motif = np.array([[   0,   2, 104, 104,   1,   2, 103, 102,   0,   0,  99, 105,   0,   0, 100, 102,   5,   3],\n",
    "                  [   0,   0,   0,   0,   0,   0,   0,   0,   0,   2,   4,   0,   0,   2,   3,   0,   0,   3],\n",
    "                  [ 105, 103,   1,   1, 104, 102,   2,   3, 104, 103,   2,   0, 105, 103,   0,   2,  97,  97],\n",
    "                  [   0,   0,   0,   0,   0,   1,   0,   0,   1,   0,   0,   0,   0,   0,   2,   1,   3,   2]])"
   ]
  },
  {
   "cell_type": "code",
   "execution_count": 2,
   "metadata": {},
   "outputs": [],
   "source": [
    "def datagen(seq_length, num_sample, motif):\n",
    "    from tensorflow.keras.utils import to_categorical\n",
    "    \n",
    "    freq = np.hstack([np.ones((4,(seq_length-motif.shape[1])//2)), \n",
    "                      motif,\n",
    "                      np.ones((4,(seq_length-motif.shape[1])//2))])\n",
    "\n",
    "    #normalize to PWM and generate positive samples\n",
    "    pos = np.array([np.random.choice(['A', 'C', 'G', 'T'], num_sample, p=freq[:,i]/sum(freq[:,i])) \n",
    "                    for i in range(seq_length)]).transpose()\n",
    "    [''.join(x) for x in pos[1:10,:]]\n",
    "    \n",
    "    neg = np.array([np.random.choice(['A', 'C', 'G', 'T'], num_sample, p=np.array([1,1,1,1])/4.0)\n",
    "                for i in range(seq_length)]).transpose()\n",
    "\n",
    "    [''.join(x) for x in neg[1:10,:]]\n",
    "    \n",
    "    pos_tensor = np.zeros(list(pos.shape) + [4])\n",
    "    neg_tensor = np.zeros(list(neg.shape) + [4])\n",
    "\n",
    "    base_dict = {'A': 0, 'C': 1, 'G': 2, 'T': 3}\n",
    "\n",
    "    #naive one-hot encoding\n",
    "    for row in range(num_sample):\n",
    "        for col in range(seq_length):\n",
    "            pos_tensor[row,col,base_dict[pos[row,col]]] = 1\n",
    "            neg_tensor[row,col,base_dict[neg[row,col]]] = 1\n",
    "\n",
    "    X = np.vstack((pos_tensor, neg_tensor))\n",
    "    y = to_categorical(np.concatenate((np.ones(num_sample), np.zeros(num_sample))), 2)\n",
    "    return X, y"
   ]
  },
  {
   "cell_type": "code",
   "execution_count": 3,
   "metadata": {},
   "outputs": [],
   "source": [
    "def dataset(seq_length, num_train, num_val, motif):\n",
    "    X_train, y_train = datagen(seq_length=seq_length,\n",
    "                               num_sample=num_train,\n",
    "                               motif=motif)\n",
    "    X_val, y_val = datagen(seq_length=seq_length,\n",
    "                           num_sample=num_val,\n",
    "                           motif=motif)\n",
    "    return (X_train, y_train), (X_val, y_val)\n",
    "\n",
    "(X_train, y_train), (X_val, y_val) = dataset(seq_length, num_train, num_val, motif)"
   ]
  },
  {
   "cell_type": "code",
   "execution_count": 4,
   "metadata": {},
   "outputs": [
    {
     "name": "stdout",
     "output_type": "stream",
     "text": [
      "_________________________________________________________________\n",
      "Layer (type)                 Output Shape              Param #   \n",
      "=================================================================\n",
      "conv1d (Conv1D)              (None, 40, 1)             69        \n",
      "_________________________________________________________________\n",
      "flatten (Flatten)            (None, 40)                0         \n",
      "_________________________________________________________________\n",
      "dense (Dense)                (None, 2)                 82        \n",
      "=================================================================\n",
      "Total params: 151\n",
      "Trainable params: 151\n",
      "Non-trainable params: 0\n",
      "_________________________________________________________________\n"
     ]
    }
   ],
   "source": [
    "from tensorflow.keras.models import Sequential\n",
    "from tensorflow.keras.layers import Conv1D, Dense, Flatten, Dropout, MaxPooling1D\n",
    "from tensorflow.keras.activations import relu\n",
    "from tensorflow.keras.optimizers import SGD\n",
    "\n",
    "model = Sequential()\n",
    "model.add(Conv1D(filters=1, \n",
    "                 kernel_size=17,\n",
    "                 padding='same',\n",
    "                 input_shape=(seq_length, 4),\n",
    "                 activation='relu'))\n",
    "\n",
    "model.add(Flatten())\n",
    "model.add(Dense(2, activation='softmax'))\n",
    "\n",
    "model.summary()"
   ]
  },
  {
   "cell_type": "code",
   "execution_count": 5,
   "metadata": {},
   "outputs": [
    {
     "name": "stdout",
     "output_type": "stream",
     "text": [
      "Train on 1400 samples, validate on 600 samples\n",
      "Epoch 1/10\n",
      "1400/1400 [==============================] - 1s 620us/step - loss: 0.3071 - acc: 0.8593 - val_loss: 0.3140 - val_acc: 0.8617\n",
      "Epoch 2/10\n",
      "1400/1400 [==============================] - 0s 53us/step - loss: 0.0652 - acc: 0.9800 - val_loss: 0.1271 - val_acc: 0.9467\n",
      "Epoch 3/10\n",
      "1400/1400 [==============================] - 0s 62us/step - loss: 0.0273 - acc: 0.9943 - val_loss: 0.0438 - val_acc: 0.9900\n",
      "Epoch 4/10\n",
      "1400/1400 [==============================] - 0s 53us/step - loss: 0.0147 - acc: 0.9979 - val_loss: 0.0371 - val_acc: 0.9883\n",
      "Epoch 5/10\n",
      "1400/1400 [==============================] - 0s 54us/step - loss: 0.0088 - acc: 0.9993 - val_loss: 0.0285 - val_acc: 0.9933\n",
      "Epoch 6/10\n",
      "1400/1400 [==============================] - 0s 58us/step - loss: 0.0059 - acc: 1.0000 - val_loss: 0.0175 - val_acc: 0.9933\n",
      "Epoch 7/10\n",
      "1400/1400 [==============================] - 0s 55us/step - loss: 0.0046 - acc: 1.0000 - val_loss: 0.0160 - val_acc: 0.9933\n",
      "Epoch 8/10\n",
      "1400/1400 [==============================] - 0s 59us/step - loss: 0.0035 - acc: 1.0000 - val_loss: 0.0168 - val_acc: 0.9933\n",
      "Epoch 9/10\n",
      "1400/1400 [==============================] - 0s 46us/step - loss: 0.0029 - acc: 1.0000 - val_loss: 0.0135 - val_acc: 0.9950\n",
      "Epoch 10/10\n",
      "1400/1400 [==============================] - 0s 41us/step - loss: 0.0025 - acc: 1.0000 - val_loss: 0.0151 - val_acc: 0.9950\n"
     ]
    },
    {
     "data": {
      "text/plain": [
       "<tensorflow.python.keras.callbacks.History at 0x7f5e3b5f7cf8>"
      ]
     },
     "execution_count": 5,
     "metadata": {},
     "output_type": "execute_result"
    }
   ],
   "source": [
    "sgd = SGD(lr=0.01, decay=1e-6, momentum=0.9, nesterov=True)\n",
    "model.compile(optimizer=sgd,\n",
    "              loss='binary_crossentropy',\n",
    "              metrics=['accuracy'])\n",
    "\n",
    "model.fit(X_train, y_train, validation_split=0.3, epochs=10, shuffle=True)  # starts training"
   ]
  },
  {
   "cell_type": "code",
   "execution_count": 6,
   "metadata": {},
   "outputs": [
    {
     "name": "stdout",
     "output_type": "stream",
     "text": [
      "1.0\n"
     ]
    }
   ],
   "source": [
    "score = model.evaluate(X_val, y_val, verbose=0)\n",
    "print(score[1])"
   ]
  },
  {
   "cell_type": "code",
   "execution_count": 7,
   "metadata": {},
   "outputs": [
    {
     "name": "stdout",
     "output_type": "stream",
     "text": [
      "Convolution parameter shape: (17, 4)\n"
     ]
    }
   ],
   "source": [
    "convlayer = model.layers[0]\n",
    "weights = convlayer.get_weights()[0].squeeze()\n",
    "print('Convolution parameter shape: {}'.format(weights.shape))"
   ]
  },
  {
   "cell_type": "code",
   "execution_count": 8,
   "metadata": {},
   "outputs": [
    {
     "data": {
      "text/plain": [
       "'TGAAAGAAAGGAAGGAA'"
      ]
     },
     "execution_count": 8,
     "metadata": {},
     "output_type": "execute_result"
    }
   ],
   "source": [
    "num2seq = ['A','C','G','T']\n",
    "\n",
    "''.join([num2seq[np.argmax(weights[i,:])] for i in range(weights.shape[0])])"
   ]
  },
  {
   "cell_type": "markdown",
   "metadata": {},
   "source": [
    "# Recurrent Neural Networks\n",
    "**by: Santiago Hincapie**"
   ]
  },
  {
   "cell_type": "markdown",
   "metadata": {},
   "source": [
    "# Fully connected\n",
    "![](img/d30.png)"
   ]
  },
  {
   "cell_type": "markdown",
   "metadata": {},
   "source": [
    "# Recurrent Neural Networks: Process Sequences\n",
    "![](img/d31.png)"
   ]
  },
  {
   "cell_type": "markdown",
   "metadata": {},
   "source": [
    "* **one to many** $\\to$ Image Captioning\n",
    "* **many to one** $\\to$ Sentiment Classification\n",
    "* **many to many** $\\to$ Machine Translation\n",
    "* **many to many** $\\to$ Video classification on frame level"
   ]
  },
  {
   "cell_type": "markdown",
   "metadata": {},
   "source": [
    "# Recurrent Neural Networks\n",
    "![](img/d32.png)"
   ]
  },
  {
   "cell_type": "markdown",
   "metadata": {},
   "source": [
    "We can process a sequence of vectors x by applying a recurrence formula at every time step:\n",
    "$$ h_t = f_W (h_{t-1}, x_t) $$"
   ]
  },
  {
   "cell_type": "markdown",
   "metadata": {},
   "source": [
    "**Notice:** the same function and the same set of parameters are used at every time step."
   ]
  },
  {
   "cell_type": "markdown",
   "metadata": {},
   "source": [
    "## Vanilla RNN\n",
    "$$ h_t = f_W (h_{t-1}, x_t) $$\n",
    "$$ h_t = \\tanh(W_{hh}h_{t-1} + W_{xh}x_t) $$\n",
    "$$ y_t = W_{hy}h_t $$"
   ]
  },
  {
   "cell_type": "markdown",
   "metadata": {},
   "source": [
    "# RNN: Computational Graph\n",
    "![](img/d33.png)"
   ]
  },
  {
   "cell_type": "markdown",
   "metadata": {},
   "source": [
    "## Example: Character-level Language Model\n",
    "**Vocabulary:** [h, e, l, o]<br>\n",
    "**training:** \"Hello\""
   ]
  },
  {
   "cell_type": "markdown",
   "metadata": {},
   "source": [
    "![](img/de1.png)"
   ]
  },
  {
   "cell_type": "markdown",
   "metadata": {},
   "source": [
    "#### Test time\n",
    "![](img/de2.png)"
   ]
  },
  {
   "cell_type": "markdown",
   "metadata": {},
   "source": [
    "# Backpropagation through time\n",
    "Forward through entire sequence to compute loss, then backward through entire sequence to compute gradient"
   ]
  },
  {
   "cell_type": "markdown",
   "metadata": {},
   "source": [
    "![](img/d34.png)"
   ]
  },
  {
   "cell_type": "markdown",
   "metadata": {},
   "source": [
    "# _Truncated_ Backpropagation through time\n"
   ]
  },
  {
   "cell_type": "markdown",
   "metadata": {},
   "source": [
    "![](img/d35.png)"
   ]
  },
  {
   "cell_type": "markdown",
   "metadata": {},
   "source": [
    "## Example!\n",
    "![](img/d36.png)"
   ]
  },
  {
   "cell_type": "markdown",
   "metadata": {},
   "source": [
    "![](img/d37.png)"
   ]
  },
  {
   "cell_type": "markdown",
   "metadata": {},
   "source": [
    "### The Stacks Project: open source algebraic geometry textbook\n",
    "![](img/de3.png)"
   ]
  },
  {
   "cell_type": "markdown",
   "metadata": {},
   "source": [
    "\n",
    "![](img/de4.png)"
   ]
  },
  {
   "cell_type": "markdown",
   "metadata": {},
   "source": [
    "### Image caption\n",
    "![](img/de5.png)"
   ]
  },
  {
   "cell_type": "markdown",
   "metadata": {},
   "source": [
    "### Visual Question Answering\n",
    "![](img/de6.png)"
   ]
  },
  {
   "cell_type": "markdown",
   "metadata": {},
   "source": [
    "## Multilayer RNNs\n",
    "![](img/d38.png)"
   ]
  },
  {
   "cell_type": "markdown",
   "metadata": {},
   "source": [
    "$$ h_t^l = \\tanh W^l \\begin{pmatrix} h_t^{l-1} \\\\ h_{t-1}^l\\end{pmatrix}$$"
   ]
  },
  {
   "cell_type": "markdown",
   "metadata": {},
   "source": [
    "## Vanilla RNN Gradient Flow\n",
    "![](img/d39.png)"
   ]
  },
  {
   "cell_type": "markdown",
   "metadata": {},
   "source": [
    "## Vanilla RNN Gradient Flow\n",
    "![](img/d310.png)"
   ]
  },
  {
   "cell_type": "markdown",
   "metadata": {},
   "source": [
    "Computing gradient of $h_0$ involves many factors of $W$ (and repeated $\\tanh$)"
   ]
  },
  {
   "cell_type": "markdown",
   "metadata": {},
   "source": [
    "* Largest singular value > 1: Exploding gradients\n",
    "* Largest singular value < 1: Vanishing gradients"
   ]
  },
  {
   "cell_type": "markdown",
   "metadata": {},
   "source": [
    "Exploding gradients? $\\to$ **Gradient clipping:** Scale gradient if its norm is too big"
   ]
  },
  {
   "cell_type": "markdown",
   "metadata": {},
   "source": [
    "Vanishing gradients? $\\to$ Sorry houston $\\to$ Change RNN architecture"
   ]
  },
  {
   "cell_type": "markdown",
   "metadata": {},
   "source": [
    "# Long Short Term Memory"
   ]
  },
  {
   "cell_type": "markdown",
   "metadata": {},
   "source": [
    "$$ \\begin{pmatrix} i \\\\ f \\\\ o \\\\ g \\end{pmatrix} = \n",
    "\\begin{pmatrix} \\sigma \\\\ \\sigma \\\\ \\sigma \\\\ \\tanh \\end{pmatrix} W\n",
    "\\begin{pmatrix} h_{t-1} \\\\ x_t \\end{pmatrix} $$\n",
    "$$c_t = f \\odot c_{t-1} + i \\odot g $$\n",
    "$$h_t = o \\odot \\tanh{c_t} $$"
   ]
  },
  {
   "cell_type": "markdown",
   "metadata": {},
   "source": [
    "**i:** Input gate, whether to write to cell <br>\n",
    "**f:** Forget gate, Whether to erase cell<br>\n",
    "**o:** Output gate, How much to reveal cell<br>\n",
    "**g:** Gate gate (?), How much to write to cell<br>"
   ]
  },
  {
   "cell_type": "markdown",
   "metadata": {},
   "source": [
    "## LSTM Gradient Flow\n",
    "![](img/d311.png)"
   ]
  },
  {
   "cell_type": "markdown",
   "metadata": {},
   "source": [
    "## LSTM Gradient Flow\n",
    "![](img/d312.png)"
   ]
  },
  {
   "cell_type": "markdown",
   "metadata": {},
   "source": [
    "# Lets play!"
   ]
  },
  {
   "cell_type": "code",
   "execution_count": 1,
   "metadata": {},
   "outputs": [],
   "source": [
    "from tensorflow.keras.preprocessing import sequence\n",
    "from tensorflow.keras.models import Sequential\n",
    "from tensorflow.keras.layers import Dense, Embedding\n",
    "from tensorflow.keras.layers import LSTM\n",
    "from tensorflow.keras.datasets import imdb"
   ]
  },
  {
   "cell_type": "code",
   "execution_count": 2,
   "metadata": {},
   "outputs": [
    {
     "name": "stdout",
     "output_type": "stream",
     "text": [
      "Loading data...\n",
      "25000 train sequences\n",
      "25000 test sequences\n"
     ]
    }
   ],
   "source": [
    "max_features = 20000\n",
    "# cut texts after this number of words (among top max_features most common words)\n",
    "maxlen = 80\n",
    "batch_size = 32\n",
    "\n",
    "print('Loading data...')\n",
    "(x_train, y_train), (x_test, y_test) = imdb.load_data(num_words=max_features)\n",
    "print(len(x_train), 'train sequences')\n",
    "print(len(x_test), 'test sequences')"
   ]
  },
  {
   "cell_type": "code",
   "execution_count": 3,
   "metadata": {},
   "outputs": [
    {
     "name": "stdout",
     "output_type": "stream",
     "text": [
      "x_train shape: (25000, 80)\n",
      "x_test shape: (25000, 80)\n"
     ]
    }
   ],
   "source": [
    "x_train = sequence.pad_sequences(x_train, maxlen=maxlen)\n",
    "x_test = sequence.pad_sequences(x_test, maxlen=maxlen)\n",
    "print('x_train shape:', x_train.shape)\n",
    "print('x_test shape:', x_test.shape)"
   ]
  },
  {
   "cell_type": "code",
   "execution_count": 4,
   "metadata": {},
   "outputs": [],
   "source": [
    "model = Sequential()\n",
    "model.add(Embedding(max_features, 128))\n",
    "model.add(LSTM(128, dropout=0.2, recurrent_dropout=0.2))\n",
    "model.add(Dense(1, activation='sigmoid'))\n",
    "\n",
    "# try using different optimizers and different optimizer configs\n",
    "model.compile(loss='binary_crossentropy',\n",
    "              optimizer='adam',\n",
    "              metrics=['accuracy'])"
   ]
  },
  {
   "cell_type": "code",
   "execution_count": 5,
   "metadata": {},
   "outputs": [
    {
     "name": "stderr",
     "output_type": "stream",
     "text": [
      "/usr/local/lib/python3.6/dist-packages/tensorflow/python/ops/gradients_impl.py:108: UserWarning: Converting sparse IndexedSlices to a dense Tensor of unknown shape. This may consume a large amount of memory.\n",
      "  \"Converting sparse IndexedSlices to a dense Tensor of unknown shape. \"\n"
     ]
    },
    {
     "name": "stdout",
     "output_type": "stream",
     "text": [
      "Train on 25000 samples, validate on 25000 samples\n",
      "Epoch 1/15\n",
      "25000/25000 [==============================] - 103s 4ms/step - loss: 0.4550 - acc: 0.7833 - val_loss: 0.3947 - val_acc: 0.8226\n",
      "Epoch 2/15\n",
      " 1440/25000 [>.............................] - ETA: 1:34 - loss: 0.2885 - acc: 0.8896"
     ]
    },
    {
     "ename": "KeyboardInterrupt",
     "evalue": "",
     "output_type": "error",
     "traceback": [
      "\u001b[0;31m---------------------------------------------------------------------------\u001b[0m",
      "\u001b[0;31mKeyboardInterrupt\u001b[0m                         Traceback (most recent call last)",
      "\u001b[0;32m<ipython-input-5-198fdb73305d>\u001b[0m in \u001b[0;36m<module>\u001b[0;34m()\u001b[0m\n\u001b[1;32m      2\u001b[0m           \u001b[0mbatch_size\u001b[0m\u001b[0;34m=\u001b[0m\u001b[0mbatch_size\u001b[0m\u001b[0;34m,\u001b[0m\u001b[0;34m\u001b[0m\u001b[0;34m\u001b[0m\u001b[0m\n\u001b[1;32m      3\u001b[0m           \u001b[0mepochs\u001b[0m\u001b[0;34m=\u001b[0m\u001b[0;36m15\u001b[0m\u001b[0;34m,\u001b[0m\u001b[0;34m\u001b[0m\u001b[0;34m\u001b[0m\u001b[0m\n\u001b[0;32m----> 4\u001b[0;31m           validation_data=(x_test, y_test))\n\u001b[0m",
      "\u001b[0;32m/usr/local/lib/python3.6/dist-packages/tensorflow/python/keras/engine/training.py\u001b[0m in \u001b[0;36mfit\u001b[0;34m(self, x, y, batch_size, epochs, verbose, callbacks, validation_split, validation_data, shuffle, class_weight, sample_weight, initial_epoch, steps_per_epoch, validation_steps, **kwargs)\u001b[0m\n\u001b[1;32m   1603\u001b[0m           \u001b[0minitial_epoch\u001b[0m\u001b[0;34m=\u001b[0m\u001b[0minitial_epoch\u001b[0m\u001b[0;34m,\u001b[0m\u001b[0;34m\u001b[0m\u001b[0;34m\u001b[0m\u001b[0m\n\u001b[1;32m   1604\u001b[0m           \u001b[0msteps_per_epoch\u001b[0m\u001b[0;34m=\u001b[0m\u001b[0msteps_per_epoch\u001b[0m\u001b[0;34m,\u001b[0m\u001b[0;34m\u001b[0m\u001b[0;34m\u001b[0m\u001b[0m\n\u001b[0;32m-> 1605\u001b[0;31m           validation_steps=validation_steps)\n\u001b[0m\u001b[1;32m   1606\u001b[0m \u001b[0;34m\u001b[0m\u001b[0m\n\u001b[1;32m   1607\u001b[0m   def evaluate(self,\n",
      "\u001b[0;32m/usr/local/lib/python3.6/dist-packages/tensorflow/python/keras/engine/training_arrays.py\u001b[0m in \u001b[0;36mfit_loop\u001b[0;34m(model, inputs, targets, sample_weights, batch_size, epochs, verbose, callbacks, val_inputs, val_targets, val_sample_weights, shuffle, initial_epoch, steps_per_epoch, validation_steps)\u001b[0m\n\u001b[1;32m    212\u001b[0m           \u001b[0mins_batch\u001b[0m\u001b[0;34m[\u001b[0m\u001b[0mi\u001b[0m\u001b[0;34m]\u001b[0m \u001b[0;34m=\u001b[0m \u001b[0mins_batch\u001b[0m\u001b[0;34m[\u001b[0m\u001b[0mi\u001b[0m\u001b[0;34m]\u001b[0m\u001b[0;34m.\u001b[0m\u001b[0mtoarray\u001b[0m\u001b[0;34m(\u001b[0m\u001b[0;34m)\u001b[0m\u001b[0;34m\u001b[0m\u001b[0;34m\u001b[0m\u001b[0m\n\u001b[1;32m    213\u001b[0m \u001b[0;34m\u001b[0m\u001b[0m\n\u001b[0;32m--> 214\u001b[0;31m         \u001b[0mouts\u001b[0m \u001b[0;34m=\u001b[0m \u001b[0mf\u001b[0m\u001b[0;34m(\u001b[0m\u001b[0mins_batch\u001b[0m\u001b[0;34m)\u001b[0m\u001b[0;34m\u001b[0m\u001b[0;34m\u001b[0m\u001b[0m\n\u001b[0m\u001b[1;32m    215\u001b[0m         \u001b[0;32mif\u001b[0m \u001b[0;32mnot\u001b[0m \u001b[0misinstance\u001b[0m\u001b[0;34m(\u001b[0m\u001b[0mouts\u001b[0m\u001b[0;34m,\u001b[0m \u001b[0mlist\u001b[0m\u001b[0;34m)\u001b[0m\u001b[0;34m:\u001b[0m\u001b[0;34m\u001b[0m\u001b[0;34m\u001b[0m\u001b[0m\n\u001b[1;32m    216\u001b[0m           \u001b[0mouts\u001b[0m \u001b[0;34m=\u001b[0m \u001b[0;34m[\u001b[0m\u001b[0mouts\u001b[0m\u001b[0;34m]\u001b[0m\u001b[0;34m\u001b[0m\u001b[0;34m\u001b[0m\u001b[0m\n",
      "\u001b[0;32m/usr/local/lib/python3.6/dist-packages/tensorflow/python/keras/backend.py\u001b[0m in \u001b[0;36m__call__\u001b[0;34m(self, inputs)\u001b[0m\n\u001b[1;32m   2976\u001b[0m \u001b[0;34m\u001b[0m\u001b[0m\n\u001b[1;32m   2977\u001b[0m     fetched = self._callable_fn(*array_vals,\n\u001b[0;32m-> 2978\u001b[0;31m                                 run_metadata=self.run_metadata)\n\u001b[0m\u001b[1;32m   2979\u001b[0m     \u001b[0mself\u001b[0m\u001b[0;34m.\u001b[0m\u001b[0m_call_fetch_callbacks\u001b[0m\u001b[0;34m(\u001b[0m\u001b[0mfetched\u001b[0m\u001b[0;34m[\u001b[0m\u001b[0;34m-\u001b[0m\u001b[0mlen\u001b[0m\u001b[0;34m(\u001b[0m\u001b[0mself\u001b[0m\u001b[0;34m.\u001b[0m\u001b[0m_fetches\u001b[0m\u001b[0;34m)\u001b[0m\u001b[0;34m:\u001b[0m\u001b[0;34m]\u001b[0m\u001b[0;34m)\u001b[0m\u001b[0;34m\u001b[0m\u001b[0;34m\u001b[0m\u001b[0m\n\u001b[1;32m   2980\u001b[0m     \u001b[0;32mreturn\u001b[0m \u001b[0mfetched\u001b[0m\u001b[0;34m[\u001b[0m\u001b[0;34m:\u001b[0m\u001b[0mlen\u001b[0m\u001b[0;34m(\u001b[0m\u001b[0mself\u001b[0m\u001b[0;34m.\u001b[0m\u001b[0moutputs\u001b[0m\u001b[0;34m)\u001b[0m\u001b[0;34m]\u001b[0m\u001b[0;34m\u001b[0m\u001b[0;34m\u001b[0m\u001b[0m\n",
      "\u001b[0;32m/usr/local/lib/python3.6/dist-packages/tensorflow/python/client/session.py\u001b[0m in \u001b[0;36m__call__\u001b[0;34m(self, *args, **kwargs)\u001b[0m\n\u001b[1;32m   1397\u001b[0m           ret = tf_session.TF_SessionRunCallable(\n\u001b[1;32m   1398\u001b[0m               \u001b[0mself\u001b[0m\u001b[0;34m.\u001b[0m\u001b[0m_session\u001b[0m\u001b[0;34m.\u001b[0m\u001b[0m_session\u001b[0m\u001b[0;34m,\u001b[0m \u001b[0mself\u001b[0m\u001b[0;34m.\u001b[0m\u001b[0m_handle\u001b[0m\u001b[0;34m,\u001b[0m \u001b[0margs\u001b[0m\u001b[0;34m,\u001b[0m \u001b[0mstatus\u001b[0m\u001b[0;34m,\u001b[0m\u001b[0;34m\u001b[0m\u001b[0;34m\u001b[0m\u001b[0m\n\u001b[0;32m-> 1399\u001b[0;31m               run_metadata_ptr)\n\u001b[0m\u001b[1;32m   1400\u001b[0m         \u001b[0;32mif\u001b[0m \u001b[0mrun_metadata\u001b[0m\u001b[0;34m:\u001b[0m\u001b[0;34m\u001b[0m\u001b[0;34m\u001b[0m\u001b[0m\n\u001b[1;32m   1401\u001b[0m           \u001b[0mproto_data\u001b[0m \u001b[0;34m=\u001b[0m \u001b[0mtf_session\u001b[0m\u001b[0;34m.\u001b[0m\u001b[0mTF_GetBuffer\u001b[0m\u001b[0;34m(\u001b[0m\u001b[0mrun_metadata_ptr\u001b[0m\u001b[0;34m)\u001b[0m\u001b[0;34m\u001b[0m\u001b[0;34m\u001b[0m\u001b[0m\n",
      "\u001b[0;31mKeyboardInterrupt\u001b[0m: "
     ]
    }
   ],
   "source": [
    "model.fit(x_train, y_train,\n",
    "          batch_size=batch_size,\n",
    "          epochs=15,\n",
    "          validation_data=(x_test, y_test))"
   ]
  },
  {
   "cell_type": "code",
   "execution_count": null,
   "metadata": {},
   "outputs": [],
   "source": [
    "score, acc = model.evaluate(x_test, y_test,\n",
    "                            batch_size=batch_size)"
   ]
  },
  {
   "cell_type": "markdown",
   "metadata": {},
   "source": [
    "## Denoising DNA Sequence"
   ]
  },
  {
   "cell_type": "markdown",
   "metadata": {},
   "source": [
    "Using a deep convolutional neural network (CNN) for [denoising images](http://papers.nips.cc/paper/4686-image-denoising-and-inpainting-with-deep-neural-networks.pdf) or [constructing super resolution images](https://arxiv.org/pdf/1501.00092.pdf) has generating some quite amazing results."
   ]
  },
  {
   "cell_type": "markdown",
   "metadata": {},
   "source": [
    "**Can we “stack” a set of erroneous DNA sequences together to remove all kinds of errors with a neural network?**"
   ]
  },
  {
   "cell_type": "code",
   "execution_count": 6,
   "metadata": {},
   "outputs": [],
   "source": [
    "def sim_error(seq, pi=0.05, pd=0.05, ps=0.01):\n",
    "    \"\"\"\n",
    "    Given an input sequence `seq`, generating another\n",
    "    sequence with errors. \n",
    "    pi: insertion error rate\n",
    "    pd: deletion error rate\n",
    "    ps: substitution error rate\n",
    "    \"\"\"\n",
    "    out_seq = []\n",
    "    for c in seq:\n",
    "        while 1:\n",
    "            r = random.uniform(0,1)\n",
    "            if r < pi:\n",
    "                out_seq.append(random.choice([\"A\",\"C\",\"G\",\"T\"]))\n",
    "            else:\n",
    "                break\n",
    "        r -= pi\n",
    "        if r < pd:\n",
    "            continue\n",
    "        r -= pd\n",
    "        if r < ps:\n",
    "            out_seq.append(random.choice([\"A\",\"C\",\"G\",\"T\"]))\n",
    "            continue\n",
    "        out_seq.append(c)\n",
    "    return \"\".join(out_seq)"
   ]
  },
  {
   "cell_type": "code",
   "execution_count": 7,
   "metadata": {},
   "outputs": [
    {
     "name": "stdout",
     "output_type": "stream",
     "text": [
      "GTTTCCCTCTGGACTGTCGTTGACCGGTAACCGATGATTGCCTGAAGCGTGGGCCAATGATCCGACCAGAGCGACGCCTATAAAGTGAGCAGAAGTTGGTCCGCTTTTTCTGTCGGACCGAGGGTTATTCTTTGGCAGCTTAATCTCTGACATGTCCAATACGACTGTAAATATTGATACATAATACATCCGCGTACTAGGGCAGGCTTACGTACCGTAC\n"
     ]
    }
   ],
   "source": [
    "import random\n",
    "seq = [random.choice([\"A\",\"C\",\"G\",\"T\"]) for _ in range(220)]\n",
    "print(\"\".join(seq))"
   ]
  },
  {
   "cell_type": "code",
   "execution_count": 8,
   "metadata": {
    "scrolled": true
   },
   "outputs": [
    {
     "data": {
      "text/plain": [
       "3407"
      ]
     },
     "execution_count": 8,
     "metadata": {},
     "output_type": "execute_result"
    }
   ],
   "source": [
    "N = 20\n",
    "length = 50\n",
    "\n",
    "seqs = []\n",
    "seqs_raw = []\n",
    "for i in range(N):\n",
    "    seq_i = '<' + sim_error(seq, pi=0.05, pd=0.05, ps=0.01) + '>'\n",
    "    seqs_raw.append(seq_i)\n",
    "    for j in range(length, len(seq_i)):\n",
    "        seq_j = seq_i[j-length:j+1]\n",
    "        seqs.append(seq_j)\n",
    "\n",
    "len(seqs)"
   ]
  },
  {
   "cell_type": "code",
   "execution_count": 9,
   "metadata": {},
   "outputs": [
    {
     "data": {
      "text/plain": [
       "(3407, 51, 6)"
      ]
     },
     "execution_count": 9,
     "metadata": {},
     "output_type": "execute_result"
    }
   ],
   "source": [
    "import numpy as np\n",
    "from tensorflow.keras.utils import to_categorical\n",
    "\n",
    "chars = sorted(list(set(seqs_raw[0])))\n",
    "mapping = dict((c, i) for i, c in enumerate(chars))\n",
    "mapping\n",
    "seqs_t = to_categorical([list(map(lambda x: mapping[x], s)) for s in seqs], 6)\n",
    "seqs_t.shape"
   ]
  },
  {
   "cell_type": "code",
   "execution_count": 10,
   "metadata": {},
   "outputs": [],
   "source": [
    "X, y = seqs_t[:, :-1], seqs_t[:, -1]"
   ]
  },
  {
   "cell_type": "code",
   "execution_count": 11,
   "metadata": {},
   "outputs": [
    {
     "data": {
      "text/plain": [
       "((3407, 50, 6), (3407, 6))"
      ]
     },
     "execution_count": 11,
     "metadata": {},
     "output_type": "execute_result"
    }
   ],
   "source": [
    "X.shape, y.shape"
   ]
  },
  {
   "cell_type": "code",
   "execution_count": 12,
   "metadata": {},
   "outputs": [
    {
     "name": "stdout",
     "output_type": "stream",
     "text": [
      "_________________________________________________________________\n",
      "Layer (type)                 Output Shape              Param #   \n",
      "=================================================================\n",
      "lstm_1 (LSTM)                (None, 32)                4992      \n",
      "_________________________________________________________________\n",
      "dense_1 (Dense)              (None, 12)                396       \n",
      "_________________________________________________________________\n",
      "dense_2 (Dense)              (None, 12)                156       \n",
      "_________________________________________________________________\n",
      "dense_3 (Dense)              (None, 6)                 78        \n",
      "=================================================================\n",
      "Total params: 5,622\n",
      "Trainable params: 5,622\n",
      "Non-trainable params: 0\n",
      "_________________________________________________________________\n"
     ]
    }
   ],
   "source": [
    "model = Sequential()\n",
    "model.add(LSTM(32, input_shape=X.shape[1:]))\n",
    "model.add(Dense(12, activation='relu'))\n",
    "model.add(Dense(12, activation='relu'))\n",
    "model.add(Dense(6, activation='softmax'))\n",
    "\n",
    "model.summary()"
   ]
  },
  {
   "cell_type": "code",
   "execution_count": 13,
   "metadata": {},
   "outputs": [],
   "source": [
    "model.compile(loss='categorical_crossentropy',\n",
    "              optimizer='adam',\n",
    "              metrics=['accuracy'])"
   ]
  },
  {
   "cell_type": "code",
   "execution_count": 14,
   "metadata": {
    "scrolled": true
   },
   "outputs": [
    {
     "name": "stdout",
     "output_type": "stream",
     "text": [
      "Epoch 1/100\n",
      "3407/3407 [==============================] - 2s 657us/step - loss: 1.5475 - acc: 0.2375\n",
      "Epoch 2/100\n",
      "3407/3407 [==============================] - 2s 488us/step - loss: 1.4183 - acc: 0.2565\n",
      "Epoch 3/100\n",
      "3407/3407 [==============================] - 2s 496us/step - loss: 1.4147 - acc: 0.2480\n",
      "Epoch 4/100\n",
      "3407/3407 [==============================] - 2s 496us/step - loss: 1.4141 - acc: 0.2633\n",
      "Epoch 5/100\n",
      "3407/3407 [==============================] - 2s 488us/step - loss: 1.4145 - acc: 0.2559\n",
      "Epoch 6/100\n",
      "3407/3407 [==============================] - 2s 512us/step - loss: 1.4137 - acc: 0.2615\n",
      "Epoch 7/100\n",
      "3407/3407 [==============================] - 2s 543us/step - loss: 1.4123 - acc: 0.2583\n",
      "Epoch 8/100\n",
      "3407/3407 [==============================] - 2s 538us/step - loss: 1.4090 - acc: 0.2741\n",
      "Epoch 9/100\n",
      "3407/3407 [==============================] - 2s 538us/step - loss: 1.4097 - acc: 0.2780\n",
      "Epoch 10/100\n",
      "3407/3407 [==============================] - 2s 564us/step - loss: 1.4048 - acc: 0.2765\n",
      "Epoch 11/100\n",
      "3407/3407 [==============================] - 2s 563us/step - loss: 1.3968 - acc: 0.2835\n",
      "Epoch 12/100\n",
      "3407/3407 [==============================] - 2s 541us/step - loss: 1.3906 - acc: 0.2964\n",
      "Epoch 13/100\n",
      "3407/3407 [==============================] - 2s 519us/step - loss: 1.3825 - acc: 0.3185\n",
      "Epoch 14/100\n",
      "3407/3407 [==============================] - 2s 513us/step - loss: 1.3793 - acc: 0.3152\n",
      "Epoch 15/100\n",
      "3407/3407 [==============================] - 2s 568us/step - loss: 1.3734 - acc: 0.3108\n",
      "Epoch 16/100\n",
      "3407/3407 [==============================] - 2s 584us/step - loss: 1.3697 - acc: 0.3179\n",
      "Epoch 17/100\n",
      "3407/3407 [==============================] - 2s 575us/step - loss: 1.3688 - acc: 0.3214\n",
      "Epoch 18/100\n",
      "3407/3407 [==============================] - 2s 587us/step - loss: 1.3608 - acc: 0.3270\n",
      "Epoch 19/100\n",
      "3407/3407 [==============================] - 2s 578us/step - loss: 1.3582 - acc: 0.3279\n",
      "Epoch 20/100\n",
      "3407/3407 [==============================] - 2s 586us/step - loss: 1.3522 - acc: 0.3334\n",
      "Epoch 21/100\n",
      "3407/3407 [==============================] - 2s 579us/step - loss: 1.3465 - acc: 0.3455\n",
      "Epoch 22/100\n",
      "3407/3407 [==============================] - 2s 592us/step - loss: 1.3418 - acc: 0.3452\n",
      "Epoch 23/100\n",
      "3407/3407 [==============================] - 2s 594us/step - loss: 1.3376 - acc: 0.3481\n",
      "Epoch 24/100\n",
      "3407/3407 [==============================] - 2s 585us/step - loss: 1.3267 - acc: 0.3625\n",
      "Epoch 25/100\n",
      "3407/3407 [==============================] - 2s 588us/step - loss: 1.3218 - acc: 0.3760\n",
      "Epoch 26/100\n",
      "3407/3407 [==============================] - 2s 580us/step - loss: 1.3077 - acc: 0.3810\n",
      "Epoch 27/100\n",
      "3407/3407 [==============================] - 2s 584us/step - loss: 1.2966 - acc: 0.3801\n",
      "Epoch 28/100\n",
      "3407/3407 [==============================] - 2s 517us/step - loss: 1.2796 - acc: 0.3948\n",
      "Epoch 29/100\n",
      "3407/3407 [==============================] - 2s 517us/step - loss: 1.2618 - acc: 0.4147\n",
      "Epoch 30/100\n",
      "3407/3407 [==============================] - 2s 516us/step - loss: 1.2494 - acc: 0.4256\n",
      "Epoch 31/100\n",
      "3407/3407 [==============================] - 2s 499us/step - loss: 1.2327 - acc: 0.4353\n",
      "Epoch 32/100\n",
      "3407/3407 [==============================] - 2s 504us/step - loss: 1.2155 - acc: 0.4538\n",
      "Epoch 33/100\n",
      "3407/3407 [==============================] - 2s 513us/step - loss: 1.2029 - acc: 0.4552\n",
      "Epoch 34/100\n",
      "3407/3407 [==============================] - 2s 506us/step - loss: 1.1835 - acc: 0.4579\n",
      "Epoch 35/100\n",
      "3407/3407 [==============================] - 2s 553us/step - loss: 1.1598 - acc: 0.4846\n",
      "Epoch 36/100\n",
      "3407/3407 [==============================] - 2s 537us/step - loss: 1.1359 - acc: 0.4896\n",
      "Epoch 37/100\n",
      "3407/3407 [==============================] - 2s 564us/step - loss: 1.1188 - acc: 0.5075\n",
      "Epoch 38/100\n",
      "3407/3407 [==============================] - 2s 576us/step - loss: 1.0966 - acc: 0.5274\n",
      "Epoch 39/100\n",
      "3407/3407 [==============================] - 2s 516us/step - loss: 1.0755 - acc: 0.5427\n",
      "Epoch 40/100\n",
      "3407/3407 [==============================] - 2s 522us/step - loss: 1.0600 - acc: 0.5459\n",
      "Epoch 41/100\n",
      "3407/3407 [==============================] - 2s 518us/step - loss: 1.0473 - acc: 0.5588\n",
      "Epoch 42/100\n",
      "3407/3407 [==============================] - 2s 523us/step - loss: 1.0297 - acc: 0.5624\n",
      "Epoch 43/100\n",
      "3407/3407 [==============================] - 2s 512us/step - loss: 1.0093 - acc: 0.5770\n",
      "Epoch 44/100\n",
      "3407/3407 [==============================] - 2s 511us/step - loss: 0.9995 - acc: 0.5870\n",
      "Epoch 45/100\n",
      "3407/3407 [==============================] - 2s 509us/step - loss: 0.9741 - acc: 0.6032\n",
      "Epoch 46/100\n",
      "3407/3407 [==============================] - 2s 511us/step - loss: 0.9533 - acc: 0.6105\n",
      "Epoch 47/100\n",
      "3407/3407 [==============================] - 2s 529us/step - loss: 0.9431 - acc: 0.6173\n",
      "Epoch 48/100\n",
      "3407/3407 [==============================] - 2s 533us/step - loss: 0.9260 - acc: 0.6275\n",
      "Epoch 49/100\n",
      "3407/3407 [==============================] - 2s 576us/step - loss: 0.9136 - acc: 0.6413\n",
      "Epoch 50/100\n",
      "3407/3407 [==============================] - 2s 546us/step - loss: 0.8918 - acc: 0.6495\n",
      "Epoch 51/100\n",
      "3407/3407 [==============================] - 2s 545us/step - loss: 0.8748 - acc: 0.6531\n",
      "Epoch 52/100\n",
      "3407/3407 [==============================] - 2s 550us/step - loss: 0.8778 - acc: 0.6525\n",
      "Epoch 53/100\n",
      "3407/3407 [==============================] - 2s 548us/step - loss: 0.8514 - acc: 0.6695\n",
      "Epoch 54/100\n",
      "3407/3407 [==============================] - 2s 542us/step - loss: 0.8467 - acc: 0.6754\n",
      "Epoch 55/100\n",
      "3407/3407 [==============================] - 2s 544us/step - loss: 0.8261 - acc: 0.6812\n",
      "Epoch 56/100\n",
      "3407/3407 [==============================] - 2s 543us/step - loss: 0.8173 - acc: 0.6912\n",
      "Epoch 57/100\n",
      "3407/3407 [==============================] - 2s 550us/step - loss: 0.8016 - acc: 0.6909\n",
      "Epoch 58/100\n",
      "3407/3407 [==============================] - 2s 533us/step - loss: 0.7853 - acc: 0.7082\n",
      "Epoch 59/100\n",
      "3407/3407 [==============================] - 2s 549us/step - loss: 0.7704 - acc: 0.7150\n",
      "Epoch 60/100\n",
      "3407/3407 [==============================] - 2s 520us/step - loss: 0.7634 - acc: 0.7235\n",
      "Epoch 61/100\n",
      "3407/3407 [==============================] - 2s 513us/step - loss: 0.7537 - acc: 0.7270\n",
      "Epoch 62/100\n",
      "3407/3407 [==============================] - 2s 523us/step - loss: 0.7402 - acc: 0.7341\n",
      "Epoch 63/100\n",
      "3407/3407 [==============================] - 2s 519us/step - loss: 0.7295 - acc: 0.7446\n",
      "Epoch 64/100\n",
      "3407/3407 [==============================] - 2s 513us/step - loss: 0.7226 - acc: 0.7473\n",
      "Epoch 65/100\n",
      "3407/3407 [==============================] - 2s 518us/step - loss: 0.7194 - acc: 0.7529\n",
      "Epoch 66/100\n",
      "3407/3407 [==============================] - 2s 555us/step - loss: 0.7130 - acc: 0.7520\n",
      "Epoch 67/100\n",
      "3407/3407 [==============================] - 2s 558us/step - loss: 0.6949 - acc: 0.7590\n",
      "Epoch 68/100\n",
      "3407/3407 [==============================] - 2s 602us/step - loss: 0.6788 - acc: 0.7681\n",
      "Epoch 69/100\n",
      "3407/3407 [==============================] - 2s 540us/step - loss: 0.6730 - acc: 0.7734\n",
      "Epoch 70/100\n",
      "3407/3407 [==============================] - 2s 549us/step - loss: 0.6698 - acc: 0.7705\n",
      "Epoch 71/100\n",
      "3407/3407 [==============================] - 2s 548us/step - loss: 0.6565 - acc: 0.7737\n",
      "Epoch 72/100\n",
      "3407/3407 [==============================] - 2s 548us/step - loss: 0.6554 - acc: 0.7778\n",
      "Epoch 73/100\n",
      "3407/3407 [==============================] - 2s 558us/step - loss: 0.6358 - acc: 0.7860\n",
      "Epoch 74/100\n",
      "3407/3407 [==============================] - 2s 544us/step - loss: 0.6279 - acc: 0.7928\n",
      "Epoch 75/100\n",
      "3407/3407 [==============================] - 2s 541us/step - loss: 0.6211 - acc: 0.7954\n",
      "Epoch 76/100\n",
      "3407/3407 [==============================] - 2s 558us/step - loss: 0.6088 - acc: 0.8054\n",
      "Epoch 77/100\n",
      "3407/3407 [==============================] - 2s 580us/step - loss: 0.6130 - acc: 0.7986\n",
      "Epoch 78/100\n",
      "3407/3407 [==============================] - 2s 587us/step - loss: 0.6029 - acc: 0.8095\n",
      "Epoch 79/100\n",
      "3407/3407 [==============================] - 2s 563us/step - loss: 0.5966 - acc: 0.8016\n",
      "Epoch 80/100\n",
      "3407/3407 [==============================] - 2s 528us/step - loss: 0.5884 - acc: 0.8057\n",
      "Epoch 81/100\n",
      "3407/3407 [==============================] - 2s 534us/step - loss: 0.5785 - acc: 0.8092\n",
      "Epoch 82/100\n"
     ]
    },
    {
     "name": "stdout",
     "output_type": "stream",
     "text": [
      "3407/3407 [==============================] - 2s 490us/step - loss: 0.5685 - acc: 0.8119\n",
      "Epoch 83/100\n",
      "3407/3407 [==============================] - 2s 492us/step - loss: 0.5610 - acc: 0.8142\n",
      "Epoch 84/100\n",
      "3407/3407 [==============================] - 2s 528us/step - loss: 0.5684 - acc: 0.8127\n",
      "Epoch 85/100\n",
      "3407/3407 [==============================] - 2s 594us/step - loss: 0.5587 - acc: 0.8127\n",
      "Epoch 86/100\n",
      "3407/3407 [==============================] - 2s 575us/step - loss: 0.5536 - acc: 0.8177\n",
      "Epoch 87/100\n",
      "3407/3407 [==============================] - 2s 581us/step - loss: 0.5486 - acc: 0.8157\n",
      "Epoch 88/100\n",
      "3407/3407 [==============================] - 2s 579us/step - loss: 0.5363 - acc: 0.8251\n",
      "Epoch 89/100\n",
      "3407/3407 [==============================] - 2s 579us/step - loss: 0.5335 - acc: 0.8207\n",
      "Epoch 90/100\n",
      "3407/3407 [==============================] - 2s 588us/step - loss: 0.5362 - acc: 0.8230\n",
      "Epoch 91/100\n",
      "3407/3407 [==============================] - 2s 581us/step - loss: 0.5303 - acc: 0.8265\n",
      "Epoch 92/100\n",
      "3407/3407 [==============================] - 2s 587us/step - loss: 0.5261 - acc: 0.8248\n",
      "Epoch 93/100\n",
      "3407/3407 [==============================] - 2s 578us/step - loss: 0.5252 - acc: 0.8233\n",
      "Epoch 94/100\n",
      "3407/3407 [==============================] - 2s 583us/step - loss: 0.5096 - acc: 0.8371\n",
      "Epoch 95/100\n",
      "3407/3407 [==============================] - 2s 544us/step - loss: 0.5072 - acc: 0.8277\n",
      "Epoch 96/100\n",
      "3407/3407 [==============================] - 2s 552us/step - loss: 0.5138 - acc: 0.8292\n",
      "Epoch 97/100\n",
      "3407/3407 [==============================] - 2s 548us/step - loss: 0.4990 - acc: 0.8330\n",
      "Epoch 98/100\n",
      "3407/3407 [==============================] - 2s 539us/step - loss: 0.4991 - acc: 0.8371\n",
      "Epoch 99/100\n",
      "3407/3407 [==============================] - 2s 534us/step - loss: 0.4955 - acc: 0.8383\n",
      "Epoch 100/100\n",
      "3407/3407 [==============================] - 2s 547us/step - loss: 0.4815 - acc: 0.8433\n"
     ]
    },
    {
     "data": {
      "text/plain": [
       "<tensorflow.python.keras.callbacks.History at 0x7f4b81faff98>"
      ]
     },
     "execution_count": 14,
     "metadata": {},
     "output_type": "execute_result"
    }
   ],
   "source": [
    "model.fit(X, y, epochs=100)"
   ]
  },
  {
   "cell_type": "code",
   "execution_count": 22,
   "metadata": {},
   "outputs": [],
   "source": [
    "c = '<'\n",
    "inv = dict(map(reversed, mapping.items()))\n",
    "seq_rec = c\n",
    "text = [mapping[c]]\n",
    "while len(seq_rec) < 220 and c != '>':\n",
    "    cl = model.predict_classes(to_categorical(sequence.pad_sequences([text], maxlen=50), 6))[0]\n",
    "    c = inv[cl]\n",
    "    text += [mapping[c]]\n",
    "    seq_rec += c"
   ]
  },
  {
   "cell_type": "code",
   "execution_count": 23,
   "metadata": {},
   "outputs": [
    {
     "name": "stdout",
     "output_type": "stream",
     "text": [
      "<TTTTTCCGTGTAC>\n"
     ]
    }
   ],
   "source": [
    "print(seq_rec)"
   ]
  },
  {
   "cell_type": "code",
   "execution_count": 100,
   "metadata": {},
   "outputs": [
    {
     "data": {
      "text/plain": [
       "{0: '<', 1: '>', 2: 'A', 3: 'C', 4: 'G', 5: 'T'}"
      ]
     },
     "execution_count": 100,
     "metadata": {},
     "output_type": "execute_result"
    }
   ],
   "source": [
    "inv"
   ]
  },
  {
   "cell_type": "code",
   "execution_count": null,
   "metadata": {},
   "outputs": [],
   "source": []
  }
 ],
 "metadata": {
  "kernelspec": {
   "display_name": "Python 3",
   "language": "python",
   "name": "python3"
  },
  "language_info": {
   "codemirror_mode": {
    "name": "ipython",
    "version": 3
   },
   "file_extension": ".py",
   "mimetype": "text/x-python",
   "name": "python",
   "nbconvert_exporter": "python",
   "pygments_lexer": "ipython3",
   "version": "3.6.7"
  }
 },
 "nbformat": 4,
 "nbformat_minor": 2
}
